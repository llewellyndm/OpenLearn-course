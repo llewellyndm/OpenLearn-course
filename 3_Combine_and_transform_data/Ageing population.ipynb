{
 "cells": [
  {
   "cell_type": "markdown",
   "metadata": {},
   "source": [
    "# Ageing population and GDP\n",
    "by Llewellyn Deeprose-Morrison, 14 August 2020  \n",
    "\n",
    "In this document we look at the relationships between:\n",
    "- Percentage of population over 65 years old and GDP (\\$)\n",
    "- Percentage of population over 65 years old and population size\n",
    "- Percentage of population over 65 years old and GDP per capita (\\$)"
   ]
  },
  {
   "cell_type": "markdown",
   "metadata": {},
   "source": [
    "## Collecting the data\n",
    "The data will be collected from the World Bank's website <https://data.worldbank.org/>. We will collect data on the percentage of over-65s in the country, its population, and its GDP in \\$."
   ]
  },
  {
   "cell_type": "code",
   "execution_count": 16,
   "metadata": {},
   "outputs": [],
   "source": [
    "import warnings\n",
    "warnings.simplefilter('ignore', FutureWarning)\n",
    "from pandas import *\n",
    "from pandas_datareader.wb import download\n",
    "age_indicator = 'SP.POP.65UP.TO.ZS'\n",
    "pop_indicator = 'SP.POP.TOTL'\n",
    "gdp_indicator = 'NY.GDP.MKTP.CD'\n",
    "YEAR = 2019\n",
    "ages = download(indicator=age_indicator, country='all', start=YEAR, end=YEAR)[47:].dropna().reset_index()\n",
    "pop = download(indicator=pop_indicator, country='all', start=YEAR, end=YEAR)[47:].dropna().reset_index()\n",
    "gdp = download(indicator=gdp_indicator, country='all', start=YEAR, end=YEAR)[47:].dropna().reset_index()"
   ]
  },
  {
   "cell_type": "markdown",
   "metadata": {},
   "source": [
    "The GDP data needs to be rounded to the nearest million, and the population data to the nearest thousand, to make them easier to work with. This is achieved below."
   ]
  },
  {
   "cell_type": "code",
   "execution_count": 17,
   "metadata": {},
   "outputs": [
    {
     "data": {
      "text/html": [
       "<div>\n",
       "<style scoped>\n",
       "    .dataframe tbody tr th:only-of-type {\n",
       "        vertical-align: middle;\n",
       "    }\n",
       "\n",
       "    .dataframe tbody tr th {\n",
       "        vertical-align: top;\n",
       "    }\n",
       "\n",
       "    .dataframe thead th {\n",
       "        text-align: right;\n",
       "    }\n",
       "</style>\n",
       "<table border=\"1\" class=\"dataframe\">\n",
       "  <thead>\n",
       "    <tr style=\"text-align: right;\">\n",
       "      <th></th>\n",
       "      <th>country</th>\n",
       "      <th>GDP in $m</th>\n",
       "    </tr>\n",
       "  </thead>\n",
       "  <tbody>\n",
       "    <tr>\n",
       "      <th>0</th>\n",
       "      <td>Afghanistan</td>\n",
       "      <td>19291</td>\n",
       "    </tr>\n",
       "    <tr>\n",
       "      <th>1</th>\n",
       "      <td>Albania</td>\n",
       "      <td>15279</td>\n",
       "    </tr>\n",
       "    <tr>\n",
       "      <th>2</th>\n",
       "      <td>Algeria</td>\n",
       "      <td>171091</td>\n",
       "    </tr>\n",
       "    <tr>\n",
       "      <th>3</th>\n",
       "      <td>Andorra</td>\n",
       "      <td>3154</td>\n",
       "    </tr>\n",
       "    <tr>\n",
       "      <th>4</th>\n",
       "      <td>Angola</td>\n",
       "      <td>88816</td>\n",
       "    </tr>\n",
       "    <tr>\n",
       "      <th>...</th>\n",
       "      <td>...</td>\n",
       "      <td>...</td>\n",
       "    </tr>\n",
       "    <tr>\n",
       "      <th>181</th>\n",
       "      <td>Vanuatu</td>\n",
       "      <td>934</td>\n",
       "    </tr>\n",
       "    <tr>\n",
       "      <th>182</th>\n",
       "      <td>Vietnam</td>\n",
       "      <td>261921</td>\n",
       "    </tr>\n",
       "    <tr>\n",
       "      <th>183</th>\n",
       "      <td>Yemen, Rep.</td>\n",
       "      <td>22581</td>\n",
       "    </tr>\n",
       "    <tr>\n",
       "      <th>184</th>\n",
       "      <td>Zambia</td>\n",
       "      <td>23310</td>\n",
       "    </tr>\n",
       "    <tr>\n",
       "      <th>185</th>\n",
       "      <td>Zimbabwe</td>\n",
       "      <td>21441</td>\n",
       "    </tr>\n",
       "  </tbody>\n",
       "</table>\n",
       "<p>186 rows × 2 columns</p>\n",
       "</div>"
      ],
      "text/plain": [
       "         country  GDP in $m\n",
       "0    Afghanistan      19291\n",
       "1        Albania      15279\n",
       "2        Algeria     171091\n",
       "3        Andorra       3154\n",
       "4         Angola      88816\n",
       "..           ...        ...\n",
       "181      Vanuatu        934\n",
       "182      Vietnam     261921\n",
       "183  Yemen, Rep.      22581\n",
       "184       Zambia      23310\n",
       "185     Zimbabwe      21441\n",
       "\n",
       "[186 rows x 2 columns]"
      ]
     },
     "execution_count": 17,
     "metadata": {},
     "output_type": "execute_result"
    }
   ],
   "source": [
    "def roundToMillions(g):\n",
    "    return round(g/1000000)\n",
    "GDP = 'GDP in $m'\n",
    "COUNTRY = 'country'\n",
    "gdp[GDP] = gdp[gdp_indicator].apply(roundToMillions)\n",
    "gdpClean = gdp[[COUNTRY, GDP]]\n",
    "gdpClean"
   ]
  },
  {
   "cell_type": "code",
   "execution_count": 18,
   "metadata": {},
   "outputs": [
    {
     "data": {
      "text/html": [
       "<div>\n",
       "<style scoped>\n",
       "    .dataframe tbody tr th:only-of-type {\n",
       "        vertical-align: middle;\n",
       "    }\n",
       "\n",
       "    .dataframe tbody tr th {\n",
       "        vertical-align: top;\n",
       "    }\n",
       "\n",
       "    .dataframe thead th {\n",
       "        text-align: right;\n",
       "    }\n",
       "</style>\n",
       "<table border=\"1\" class=\"dataframe\">\n",
       "  <thead>\n",
       "    <tr style=\"text-align: right;\">\n",
       "      <th></th>\n",
       "      <th>country</th>\n",
       "      <th>Population (1000s)</th>\n",
       "    </tr>\n",
       "  </thead>\n",
       "  <tbody>\n",
       "    <tr>\n",
       "      <th>0</th>\n",
       "      <td>Afghanistan</td>\n",
       "      <td>38042</td>\n",
       "    </tr>\n",
       "    <tr>\n",
       "      <th>1</th>\n",
       "      <td>Albania</td>\n",
       "      <td>2854</td>\n",
       "    </tr>\n",
       "    <tr>\n",
       "      <th>2</th>\n",
       "      <td>Algeria</td>\n",
       "      <td>43053</td>\n",
       "    </tr>\n",
       "    <tr>\n",
       "      <th>3</th>\n",
       "      <td>American Samoa</td>\n",
       "      <td>55</td>\n",
       "    </tr>\n",
       "    <tr>\n",
       "      <th>4</th>\n",
       "      <td>Andorra</td>\n",
       "      <td>77</td>\n",
       "    </tr>\n",
       "    <tr>\n",
       "      <th>...</th>\n",
       "      <td>...</td>\n",
       "      <td>...</td>\n",
       "    </tr>\n",
       "    <tr>\n",
       "      <th>211</th>\n",
       "      <td>Virgin Islands (U.S.)</td>\n",
       "      <td>107</td>\n",
       "    </tr>\n",
       "    <tr>\n",
       "      <th>212</th>\n",
       "      <td>West Bank and Gaza</td>\n",
       "      <td>4685</td>\n",
       "    </tr>\n",
       "    <tr>\n",
       "      <th>213</th>\n",
       "      <td>Yemen, Rep.</td>\n",
       "      <td>29162</td>\n",
       "    </tr>\n",
       "    <tr>\n",
       "      <th>214</th>\n",
       "      <td>Zambia</td>\n",
       "      <td>17861</td>\n",
       "    </tr>\n",
       "    <tr>\n",
       "      <th>215</th>\n",
       "      <td>Zimbabwe</td>\n",
       "      <td>14645</td>\n",
       "    </tr>\n",
       "  </tbody>\n",
       "</table>\n",
       "<p>216 rows × 2 columns</p>\n",
       "</div>"
      ],
      "text/plain": [
       "                   country  Population (1000s)\n",
       "0              Afghanistan               38042\n",
       "1                  Albania                2854\n",
       "2                  Algeria               43053\n",
       "3           American Samoa                  55\n",
       "4                  Andorra                  77\n",
       "..                     ...                 ...\n",
       "211  Virgin Islands (U.S.)                 107\n",
       "212     West Bank and Gaza                4685\n",
       "213            Yemen, Rep.               29162\n",
       "214                 Zambia               17861\n",
       "215               Zimbabwe               14645\n",
       "\n",
       "[216 rows x 2 columns]"
      ]
     },
     "execution_count": 18,
     "metadata": {},
     "output_type": "execute_result"
    }
   ],
   "source": [
    "def roundToThousands(p):\n",
    "    return round(p/1000)\n",
    "\n",
    "POP = 'Population (1000s)'\n",
    "pop[POP] = pop[pop_indicator].apply(roundToThousands)\n",
    "popClean = pop[[COUNTRY, POP]]\n",
    "popClean"
   ]
  },
  {
   "cell_type": "markdown",
   "metadata": {},
   "source": [
    "We can use this data to calculate each country's GDP per capita."
   ]
  },
  {
   "cell_type": "code",
   "execution_count": 19,
   "metadata": {},
   "outputs": [
    {
     "data": {
      "text/html": [
       "<div>\n",
       "<style scoped>\n",
       "    .dataframe tbody tr th:only-of-type {\n",
       "        vertical-align: middle;\n",
       "    }\n",
       "\n",
       "    .dataframe tbody tr th {\n",
       "        vertical-align: top;\n",
       "    }\n",
       "\n",
       "    .dataframe thead th {\n",
       "        text-align: right;\n",
       "    }\n",
       "</style>\n",
       "<table border=\"1\" class=\"dataframe\">\n",
       "  <thead>\n",
       "    <tr style=\"text-align: right;\">\n",
       "      <th></th>\n",
       "      <th>country</th>\n",
       "      <th>GDP per capita ($)</th>\n",
       "    </tr>\n",
       "  </thead>\n",
       "  <tbody>\n",
       "    <tr>\n",
       "      <th>0</th>\n",
       "      <td>Afghanistan</td>\n",
       "      <td>507.0</td>\n",
       "    </tr>\n",
       "    <tr>\n",
       "      <th>1</th>\n",
       "      <td>Albania</td>\n",
       "      <td>5353.0</td>\n",
       "    </tr>\n",
       "    <tr>\n",
       "      <th>2</th>\n",
       "      <td>Algeria</td>\n",
       "      <td>3974.0</td>\n",
       "    </tr>\n",
       "    <tr>\n",
       "      <th>3</th>\n",
       "      <td>Andorra</td>\n",
       "      <td>40886.0</td>\n",
       "    </tr>\n",
       "    <tr>\n",
       "      <th>4</th>\n",
       "      <td>Angola</td>\n",
       "      <td>2791.0</td>\n",
       "    </tr>\n",
       "    <tr>\n",
       "      <th>...</th>\n",
       "      <td>...</td>\n",
       "      <td>...</td>\n",
       "    </tr>\n",
       "    <tr>\n",
       "      <th>181</th>\n",
       "      <td>Vanuatu</td>\n",
       "      <td>3115.0</td>\n",
       "    </tr>\n",
       "    <tr>\n",
       "      <th>182</th>\n",
       "      <td>Vietnam</td>\n",
       "      <td>2715.0</td>\n",
       "    </tr>\n",
       "    <tr>\n",
       "      <th>183</th>\n",
       "      <td>Yemen, Rep.</td>\n",
       "      <td>774.0</td>\n",
       "    </tr>\n",
       "    <tr>\n",
       "      <th>184</th>\n",
       "      <td>Zambia</td>\n",
       "      <td>1305.0</td>\n",
       "    </tr>\n",
       "    <tr>\n",
       "      <th>185</th>\n",
       "      <td>Zimbabwe</td>\n",
       "      <td>1464.0</td>\n",
       "    </tr>\n",
       "  </tbody>\n",
       "</table>\n",
       "<p>186 rows × 2 columns</p>\n",
       "</div>"
      ],
      "text/plain": [
       "         country  GDP per capita ($)\n",
       "0    Afghanistan               507.0\n",
       "1        Albania              5353.0\n",
       "2        Algeria              3974.0\n",
       "3        Andorra             40886.0\n",
       "4         Angola              2791.0\n",
       "..           ...                 ...\n",
       "181      Vanuatu              3115.0\n",
       "182      Vietnam              2715.0\n",
       "183  Yemen, Rep.               774.0\n",
       "184       Zambia              1305.0\n",
       "185     Zimbabwe              1464.0\n",
       "\n",
       "[186 rows x 2 columns]"
      ]
     },
     "execution_count": 19,
     "metadata": {},
     "output_type": "execute_result"
    }
   ],
   "source": [
    "gdpVsPop = merge(gdp, pop, on=COUNTRY, how='inner')\n",
    "GDP_PC = 'GDP per capita ($)'\n",
    "gdpVsPop[GDP_PC] = round(gdpVsPop[gdp_indicator]/gdpVsPop[pop_indicator])\n",
    "\n",
    "gdp_pcClean = gdpVsPop[[COUNTRY, GDP_PC]]\n",
    "gdp_pcClean"
   ]
  },
  {
   "cell_type": "markdown",
   "metadata": {},
   "source": [
    "Now we will round the percentage of over-65s to 1 decimal point and merge all of our tables to create the datframe `df`."
   ]
  },
  {
   "cell_type": "code",
   "execution_count": 20,
   "metadata": {},
   "outputs": [],
   "source": [
    "AGE = 'Percentage of population above 65'\n",
    "def round1dp(x):\n",
    "    return round(x, 1)\n",
    "ages[AGE] = ages[age_indicator].apply(round1dp)\n",
    "agesClean = ages[[COUNTRY, AGE]]"
   ]
  },
  {
   "cell_type": "code",
   "execution_count": null,
   "metadata": {},
   "outputs": [],
   "source": [
    "ages_gdp = merge(agesClean, gdpClean, on=COUNTRY, how='inner')\n",
    "ages_gdp_pop = merge(ages_gdp, popClean, on=COUNTRY, how='inner')\n",
    "df = merge(ages_gdp_pop, gdp_pcClean, on=COUNTRY, how='inner')\n",
    "df"
   ]
  },
  {
   "cell_type": "markdown",
   "metadata": {},
   "source": [
    "We are now ready to compare the information stated in the introduction using the Spearman rank correlation coefficient. We also calculate the p-value to determine statistical significance."
   ]
  },
  {
   "cell_type": "markdown",
   "metadata": {},
   "source": [
    "## Age and GDP"
   ]
  },
  {
   "cell_type": "code",
   "execution_count": null,
   "metadata": {},
   "outputs": [],
   "source": [
    "from scipy.stats import spearmanr\n",
    "(r, p) = spearmanr(df[AGE], df[GDP])\n",
    "print('The correlation is ', r)\n",
    "if p < 0.05:\n",
    "    print('Statistically significant.')\n",
    "else:\n",
    "    print('Not statistically significant')"
   ]
  },
  {
   "cell_type": "code",
   "execution_count": null,
   "metadata": {},
   "outputs": [],
   "source": [
    "%matplotlib inline\n",
    "df.plot(x=GDP, y=AGE, logx=True, kind='scatter', grid=True, figsize=(10,5))"
   ]
  },
  {
   "cell_type": "markdown",
   "metadata": {},
   "source": [
    "## Age and population"
   ]
  },
  {
   "cell_type": "code",
   "execution_count": null,
   "metadata": {},
   "outputs": [],
   "source": [
    "(r, p) = spearmanr(df[AGE], df[POP])\n",
    "print('The correlation is ', r)\n",
    "if p < 0.05:\n",
    "    print('Statistically significant.')\n",
    "else:\n",
    "    print('Not statistically significant')"
   ]
  },
  {
   "cell_type": "code",
   "execution_count": null,
   "metadata": {},
   "outputs": [],
   "source": [
    "df.plot(x=POP, y=AGE, logx=True, grid=True, kind='scatter', figsize=(10,5))"
   ]
  },
  {
   "cell_type": "markdown",
   "metadata": {},
   "source": [
    "## Age and GDP per capita"
   ]
  },
  {
   "cell_type": "code",
   "execution_count": null,
   "metadata": {},
   "outputs": [],
   "source": [
    "(r, p) = spearmanr(df[AGE], df[GDP_PC])\n",
    "print('The correlation is ', r)\n",
    "if p < 0.05:\n",
    "    print('Statistically significant.')\n",
    "else:\n",
    "    print('Not statistically significant')"
   ]
  },
  {
   "cell_type": "code",
   "execution_count": null,
   "metadata": {},
   "outputs": [],
   "source": [
    "df.plot(x=GDP_PC, y=AGE, logx=True, kind='scatter', grid=True, figsize=(10,5))"
   ]
  },
  {
   "cell_type": "markdown",
   "metadata": {},
   "source": [
    "## Conclusion\n",
    "It appears that the strongest relationship is between the percentage of population over 65 and the country's GDP per capita. There is a strong positive correlation which is unsurprising - a higher GDP per capita indicates the citizens of a country tend to be richer, so may have easier access to healthcare, safer jobs, and a better standard of living."
   ]
  }
 ],
 "metadata": {
  "kernelspec": {
   "display_name": "Python 3",
   "language": "python",
   "name": "python3"
  },
  "language_info": {
   "codemirror_mode": {
    "name": "ipython",
    "version": 3
   },
   "file_extension": ".py",
   "mimetype": "text/x-python",
   "name": "python",
   "nbconvert_exporter": "python",
   "pygments_lexer": "ipython3",
   "version": "3.8.3"
  }
 },
 "nbformat": 4,
 "nbformat_minor": 4
}
