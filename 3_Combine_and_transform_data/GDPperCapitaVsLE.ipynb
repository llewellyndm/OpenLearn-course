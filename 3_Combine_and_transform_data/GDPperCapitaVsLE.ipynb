{
 "cells": [
  {
   "cell_type": "markdown",
   "metadata": {},
   "source": [
    "# Project 3: GDP per capita and life expectancy\n",
    "By Llewellyn Deeprose-Morrison, 13th August 2020\n",
    "\n",
    "In a previous project (My_project_3.ipynb) the relationship between a country's GDP and life expectancy was investigated. It was concluded that there was no strong correlation between the two. However, this may not be the case when GDP per capita is considered instead of just GDP as the population of the country will be accounted for. "
   ]
  },
  {
   "cell_type": "markdown",
   "metadata": {},
   "source": [
    "## Getting the data\n",
    "The data that will be used will be taken directly from the World Bank's website <https://data.worldbank.org/>. It will be from the year 2013 as that is the year used in the aforementioned project."
   ]
  },
  {
   "cell_type": "code",
   "execution_count": 130,
   "metadata": {},
   "outputs": [
    {
     "data": {
      "text/html": [
       "<div>\n",
       "<style scoped>\n",
       "    .dataframe tbody tr th:only-of-type {\n",
       "        vertical-align: middle;\n",
       "    }\n",
       "\n",
       "    .dataframe tbody tr th {\n",
       "        vertical-align: top;\n",
       "    }\n",
       "\n",
       "    .dataframe thead th {\n",
       "        text-align: right;\n",
       "    }\n",
       "</style>\n",
       "<table border=\"1\" class=\"dataframe\">\n",
       "  <thead>\n",
       "    <tr style=\"text-align: right;\">\n",
       "      <th></th>\n",
       "      <th>country</th>\n",
       "      <th>year</th>\n",
       "      <th>SP.POP.TOTL</th>\n",
       "    </tr>\n",
       "  </thead>\n",
       "  <tbody>\n",
       "    <tr>\n",
       "      <th>0</th>\n",
       "      <td>Arab World</td>\n",
       "      <td>2013</td>\n",
       "      <td>3.797057e+08</td>\n",
       "    </tr>\n",
       "    <tr>\n",
       "      <th>1</th>\n",
       "      <td>Caribbean small states</td>\n",
       "      <td>2013</td>\n",
       "      <td>7.123332e+06</td>\n",
       "    </tr>\n",
       "    <tr>\n",
       "      <th>2</th>\n",
       "      <td>Central Europe and the Baltics</td>\n",
       "      <td>2013</td>\n",
       "      <td>1.037137e+08</td>\n",
       "    </tr>\n",
       "    <tr>\n",
       "      <th>3</th>\n",
       "      <td>Early-demographic dividend</td>\n",
       "      <td>2013</td>\n",
       "      <td>3.037111e+09</td>\n",
       "    </tr>\n",
       "    <tr>\n",
       "      <th>4</th>\n",
       "      <td>East Asia &amp; Pacific</td>\n",
       "      <td>2013</td>\n",
       "      <td>2.252047e+09</td>\n",
       "    </tr>\n",
       "  </tbody>\n",
       "</table>\n",
       "</div>"
      ],
      "text/plain": [
       "                          country  year   SP.POP.TOTL\n",
       "0                      Arab World  2013  3.797057e+08\n",
       "1          Caribbean small states  2013  7.123332e+06\n",
       "2  Central Europe and the Baltics  2013  1.037137e+08\n",
       "3      Early-demographic dividend  2013  3.037111e+09\n",
       "4             East Asia & Pacific  2013  2.252047e+09"
      ]
     },
     "execution_count": 130,
     "metadata": {},
     "output_type": "execute_result"
    }
   ],
   "source": [
    "import warnings\n",
    "warnings.simplefilter('ignore', FutureWarning)\n",
    "from pandas import *\n",
    "from pandas_datareader.wb import download\n",
    "YEAR = 2013\n",
    "POP_INDICATOR = 'SP.POP.TOTL'\n",
    "LIFE_INDICATOR = 'SP.DYN.LE00.IN'\n",
    "GDP_INDICATOR = 'NY.GDP.MKTP.CD'\n",
    "gdp = download(indicator = GDP_INDICATOR, country = 'all', start=YEAR, end=YEAR)\n",
    "gdpReset = gdp.reset_index()\n",
    "life = download(indicator = LIFE_INDICATOR, country = 'all', start=YEAR, end=YEAR)\n",
    "lifeReset = life.reset_index()\n",
    "pop = download(indicator = POP_INDICATOR, country = 'all', start=YEAR, end=YEAR)\n",
    "popReset = pop.reset_index()\n",
    "popReset.head()"
   ]
  },
  {
   "cell_type": "markdown",
   "metadata": {},
   "source": [
    "The data has now been downloaded from the World Bank. Originally, each row had the country name as its index so as the data has been downloaded the indices have been reset to integers. The data now needs to be cleaned."
   ]
  },
  {
   "cell_type": "markdown",
   "metadata": {},
   "source": [
    "## Cleaning the data\n",
    "The first 47 rows of each dataframe are for groups of countries e.g. Caribbean small states. This project aims to focus on individual countries only so the first 47 rows of each datframe need to be removed."
   ]
  },
  {
   "cell_type": "code",
   "execution_count": 131,
   "metadata": {},
   "outputs": [],
   "source": [
    "gdpAll = gdpReset[47:] #the dataframe now only contains individual countries rather than groups of countries too.\n",
    "lifeAll = lifeReset[47:]\n",
    "popAll = popReset[47:]"
   ]
  },
  {
   "cell_type": "markdown",
   "metadata": {},
   "source": [
    "Next, all rows with no value (an entry of 'NaN') will have to be removed."
   ]
  },
  {
   "cell_type": "code",
   "execution_count": 132,
   "metadata": {},
   "outputs": [],
   "source": [
    "gdpCountries = gdpAll.dropna().reset_index()\n",
    "lifeCountries = lifeAll.dropna().reset_index()\n",
    "popCountries = popAll.dropna().reset_index()"
   ]
  },
  {
   "cell_type": "markdown",
   "metadata": {},
   "source": [
    "## Transforming the data"
   ]
  },
  {
   "cell_type": "markdown",
   "metadata": {},
   "source": [
    "The first course of action is to convert the GDP values to GBP, and then to round to the nearest million for easier comprehension."
   ]
  },
  {
   "cell_type": "code",
   "execution_count": 133,
   "metadata": {},
   "outputs": [
    {
     "data": {
      "text/html": [
       "<div>\n",
       "<style scoped>\n",
       "    .dataframe tbody tr th:only-of-type {\n",
       "        vertical-align: middle;\n",
       "    }\n",
       "\n",
       "    .dataframe tbody tr th {\n",
       "        vertical-align: top;\n",
       "    }\n",
       "\n",
       "    .dataframe thead th {\n",
       "        text-align: right;\n",
       "    }\n",
       "</style>\n",
       "<table border=\"1\" class=\"dataframe\">\n",
       "  <thead>\n",
       "    <tr style=\"text-align: right;\">\n",
       "      <th></th>\n",
       "      <th>country</th>\n",
       "      <th>GDP per capita (£)</th>\n",
       "    </tr>\n",
       "  </thead>\n",
       "  <tbody>\n",
       "    <tr>\n",
       "      <th>0</th>\n",
       "      <td>Afghanistan</td>\n",
       "      <td>385.0</td>\n",
       "    </tr>\n",
       "    <tr>\n",
       "      <th>1</th>\n",
       "      <td>Albania</td>\n",
       "      <td>2665.0</td>\n",
       "    </tr>\n",
       "    <tr>\n",
       "      <th>2</th>\n",
       "      <td>Algeria</td>\n",
       "      <td>3321.0</td>\n",
       "    </tr>\n",
       "    <tr>\n",
       "      <th>3</th>\n",
       "      <td>American Samoa</td>\n",
       "      <td>6947.0</td>\n",
       "    </tr>\n",
       "    <tr>\n",
       "      <th>4</th>\n",
       "      <td>Andorra</td>\n",
       "      <td>23874.0</td>\n",
       "    </tr>\n",
       "    <tr>\n",
       "      <th>...</th>\n",
       "      <td>...</td>\n",
       "      <td>...</td>\n",
       "    </tr>\n",
       "    <tr>\n",
       "      <th>201</th>\n",
       "      <td>Virgin Islands (U.S.)</td>\n",
       "      <td>21024.0</td>\n",
       "    </tr>\n",
       "    <tr>\n",
       "      <th>202</th>\n",
       "      <td>West Bank and Gaza</td>\n",
       "      <td>1848.0</td>\n",
       "    </tr>\n",
       "    <tr>\n",
       "      <th>203</th>\n",
       "      <td>Yemen, Rep.</td>\n",
       "      <td>970.0</td>\n",
       "    </tr>\n",
       "    <tr>\n",
       "      <th>204</th>\n",
       "      <td>Zambia</td>\n",
       "      <td>1134.0</td>\n",
       "    </tr>\n",
       "    <tr>\n",
       "      <th>205</th>\n",
       "      <td>Zimbabwe</td>\n",
       "      <td>863.0</td>\n",
       "    </tr>\n",
       "  </tbody>\n",
       "</table>\n",
       "<p>206 rows × 2 columns</p>\n",
       "</div>"
      ],
      "text/plain": [
       "                   country  GDP per capita (£)\n",
       "0              Afghanistan               385.0\n",
       "1                  Albania              2665.0\n",
       "2                  Algeria              3321.0\n",
       "3           American Samoa              6947.0\n",
       "4                  Andorra             23874.0\n",
       "..                     ...                 ...\n",
       "201  Virgin Islands (U.S.)             21024.0\n",
       "202     West Bank and Gaza              1848.0\n",
       "203            Yemen, Rep.               970.0\n",
       "204                 Zambia              1134.0\n",
       "205               Zimbabwe               863.0\n",
       "\n",
       "[206 rows x 2 columns]"
      ]
     },
     "execution_count": 133,
     "metadata": {},
     "output_type": "execute_result"
    }
   ],
   "source": [
    "def usdToGBP(x):\n",
    "    return x*0.6038\n",
    "\n",
    "GDP = 'GDP (£)'\n",
    "gdpCountries[GDP] = gdpCountries[GDP_INDICATOR].apply(usdToGBP)\n",
    "\n",
    "COUNTRY = 'country'\n",
    "gdpAndPop = merge(gdpCountries, popCountries, how = 'inner', on=COUNTRY)\n",
    "\n",
    "GDP_PC = 'GDP per capita (£)'\n",
    "POP = ('Population')\n",
    "gdpAndPop[GDP_PC] = round(gdpAndPop[GDP]/gdpAndPop[POP_INDICATOR])\n",
    "\n",
    "gdpPC = gdpAndPop[[COUNTRY, GDP_PC]]\n",
    "gdpPC"
   ]
  },
  {
   "cell_type": "code",
   "execution_count": 134,
   "metadata": {},
   "outputs": [
    {
     "data": {
      "text/html": [
       "<div>\n",
       "<style scoped>\n",
       "    .dataframe tbody tr th:only-of-type {\n",
       "        vertical-align: middle;\n",
       "    }\n",
       "\n",
       "    .dataframe tbody tr th {\n",
       "        vertical-align: top;\n",
       "    }\n",
       "\n",
       "    .dataframe thead th {\n",
       "        text-align: right;\n",
       "    }\n",
       "</style>\n",
       "<table border=\"1\" class=\"dataframe\">\n",
       "  <thead>\n",
       "    <tr style=\"text-align: right;\">\n",
       "      <th></th>\n",
       "      <th>country</th>\n",
       "      <th>GDP per capita (£)</th>\n",
       "      <th>Life expectancy (years)</th>\n",
       "    </tr>\n",
       "  </thead>\n",
       "  <tbody>\n",
       "    <tr>\n",
       "      <th>0</th>\n",
       "      <td>Afghanistan</td>\n",
       "      <td>385.0</td>\n",
       "      <td>63.0</td>\n",
       "    </tr>\n",
       "    <tr>\n",
       "      <th>1</th>\n",
       "      <td>Albania</td>\n",
       "      <td>2665.0</td>\n",
       "      <td>78.0</td>\n",
       "    </tr>\n",
       "    <tr>\n",
       "      <th>2</th>\n",
       "      <td>Algeria</td>\n",
       "      <td>3321.0</td>\n",
       "      <td>76.0</td>\n",
       "    </tr>\n",
       "    <tr>\n",
       "      <th>3</th>\n",
       "      <td>Angola</td>\n",
       "      <td>3173.0</td>\n",
       "      <td>58.0</td>\n",
       "    </tr>\n",
       "    <tr>\n",
       "      <th>4</th>\n",
       "      <td>Antigua and Barbuda</td>\n",
       "      <td>7795.0</td>\n",
       "      <td>76.0</td>\n",
       "    </tr>\n",
       "    <tr>\n",
       "      <th>...</th>\n",
       "      <td>...</td>\n",
       "      <td>...</td>\n",
       "      <td>...</td>\n",
       "    </tr>\n",
       "    <tr>\n",
       "      <th>187</th>\n",
       "      <td>Virgin Islands (U.S.)</td>\n",
       "      <td>21024.0</td>\n",
       "      <td>79.0</td>\n",
       "    </tr>\n",
       "    <tr>\n",
       "      <th>188</th>\n",
       "      <td>West Bank and Gaza</td>\n",
       "      <td>1848.0</td>\n",
       "      <td>73.0</td>\n",
       "    </tr>\n",
       "    <tr>\n",
       "      <th>189</th>\n",
       "      <td>Yemen, Rep.</td>\n",
       "      <td>970.0</td>\n",
       "      <td>66.0</td>\n",
       "    </tr>\n",
       "    <tr>\n",
       "      <th>190</th>\n",
       "      <td>Zambia</td>\n",
       "      <td>1134.0</td>\n",
       "      <td>60.0</td>\n",
       "    </tr>\n",
       "    <tr>\n",
       "      <th>191</th>\n",
       "      <td>Zimbabwe</td>\n",
       "      <td>863.0</td>\n",
       "      <td>57.0</td>\n",
       "    </tr>\n",
       "  </tbody>\n",
       "</table>\n",
       "<p>192 rows × 3 columns</p>\n",
       "</div>"
      ],
      "text/plain": [
       "                   country  GDP per capita (£)  Life expectancy (years)\n",
       "0              Afghanistan               385.0                     63.0\n",
       "1                  Albania              2665.0                     78.0\n",
       "2                  Algeria              3321.0                     76.0\n",
       "3                   Angola              3173.0                     58.0\n",
       "4      Antigua and Barbuda              7795.0                     76.0\n",
       "..                     ...                 ...                      ...\n",
       "187  Virgin Islands (U.S.)             21024.0                     79.0\n",
       "188     West Bank and Gaza              1848.0                     73.0\n",
       "189            Yemen, Rep.               970.0                     66.0\n",
       "190                 Zambia              1134.0                     60.0\n",
       "191               Zimbabwe               863.0                     57.0\n",
       "\n",
       "[192 rows x 3 columns]"
      ]
     },
     "execution_count": 134,
     "metadata": {},
     "output_type": "execute_result"
    }
   ],
   "source": [
    "LIFE = 'Life expectancy (years)'\n",
    "lifeCountries[LIFE] = round(lifeCountries[LIFE_INDICATOR])\n",
    "\n",
    "lifeClean = lifeCountries[[COUNTRY, LIFE]]\n",
    "\n",
    "gdppcVsLife = merge(gdpPC, lifeClean, how='inner', on=COUNTRY)\n",
    "gdppcVsLife"
   ]
  },
  {
   "cell_type": "markdown",
   "metadata": {},
   "source": [
    "## Analysing the data\n",
    "First, the Spearman rank correlation coefficient will be calculated, along with the p-value."
   ]
  },
  {
   "cell_type": "code",
   "execution_count": 135,
   "metadata": {},
   "outputs": [
    {
     "name": "stdout",
     "output_type": "stream",
     "text": [
      "The correlation coefficient is 0.8462744904583012\n",
      "The p-value is 7.457593132536436e-54\n",
      "This result is statistically significant.\n"
     ]
    }
   ],
   "source": [
    "from scipy.stats import spearmanr\n",
    "gdppcColumn = gdppcVsLife[GDP_PC]\n",
    "lifeColumn = gdppcVsLife[LIFE]\n",
    "(r, p) = spearmanr(gdppcColumn, lifeColumn)\n",
    "print('The correlation coefficient is', r)\n",
    "print('The p-value is', p)\n",
    "if p < 0.05:\n",
    "    print('This result is statistically significant.')\n",
    "else:\n",
    "    print('This result is not statistically significant.')"
   ]
  },
  {
   "cell_type": "markdown",
   "metadata": {},
   "source": [
    "Using this statistical method it appears that there is a strong positive correlation between the GDP per capita and the life expectancy. This should be clearer on a graph."
   ]
  },
  {
   "cell_type": "code",
   "execution_count": 136,
   "metadata": {},
   "outputs": [
    {
     "data": {
      "text/plain": [
       "<matplotlib.axes._subplots.AxesSubplot at 0x2bbeb6e1670>"
      ]
     },
     "execution_count": 136,
     "metadata": {},
     "output_type": "execute_result"
    },
    {
     "data": {
      "image/png": "[encoded data removed]",
      "text/plain": [
       "<Figure size 720x360 with 1 Axes>"
      ]
     },
     "metadata": {
      "needs_background": "light"
     },
     "output_type": "display_data"
    }
   ],
   "source": [
    "%matplotlib inline\n",
    "\n",
    "gdppcVsLife.plot(x=GDP_PC, y=LIFE, grid=True, kind='scatter', logx=True, figsize=(10,5))"
   ]
  },
  {
   "cell_type": "markdown",
   "metadata": {},
   "source": [
    "It is now quite apparent that as GDP per capita increases, so does the life expectancy."
   ]
  },
  {
   "cell_type": "markdown",
   "metadata": {},
   "source": [
    "## Conclusion\n",
    "The reason for this correlation may be that as GDP per capita increases, individuals are more likely to be able to spend on things like healthcare, healthier food, safer equipment and so on."
   ]
  }
 ],
 "metadata": {
  "kernelspec": {
   "display_name": "Python 3",
   "language": "python",
   "name": "python3"
  },
  "language_info": {
   "codemirror_mode": {
    "name": "ipython",
    "version": 3
   },
   "file_extension": ".py",
   "mimetype": "text/x-python",
   "name": "python",
   "nbconvert_exporter": "python",
   "pygments_lexer": "ipython3",
   "version": "3.8.3"
  }
 },
 "nbformat": 4,
 "nbformat_minor": 4
}
